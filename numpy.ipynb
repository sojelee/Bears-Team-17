{
  "nbformat": 4,
  "nbformat_minor": 0,
  "metadata": {
    "colab": {
      "name": "Untitled",
      "provenance": [],
      "collapsed_sections": [],
      "authorship_tag": "ABX9TyOtH1/l3EQr7jBtBixEtOjD",
      "include_colab_link": true
    },
    "kernelspec": {
      "name": "python3",
      "display_name": "Python 3"
    }
  },
  "cells": [
    {
      "cell_type": "markdown",
      "metadata": {
        "id": "view-in-github",
        "colab_type": "text"
      },
      "source": [
        "<a href=\"https://colab.research.google.com/github/sojelee/Bears-Team-17/blob/development/numpy.ipynb\" target=\"_parent\"><img src=\"https://colab.research.google.com/assets/colab-badge.svg\" alt=\"Open In Colab\"/></a>"
      ]
    },
    {
      "cell_type": "code",
      "metadata": {
        "id": "xoLwOvMKK4Ke",
        "colab_type": "code",
        "colab": {
          "base_uri": "https://localhost:8080/",
          "height": 69
        },
        "outputId": "0a080d0e-bce4-4990-837a-390b13703cfe"
      },
      "source": [
        "import numpy as np\n",
        "arr_zeros = np.zeros(10)\n",
        "arr_ones = np.ones(10)\n",
        "arr_5 = np.full(10,5)\n",
        "arr_10_50 = np.arange(10,51)\n",
        "# arr_10_50\n",
        "arr_3x3_2_8 = np.arange(0,9).reshape(3,3)\n",
        "# arr_3x3_2_8\n",
        "\n",
        "# 3x3 identity matrix\n",
        "arr_3x3eye= np.eye(3)\n",
        "# arr_3x3eye\n",
        "\n",
        "# Use NumPy to generate a random number between 0 and 1\n",
        "intR = np.random.rand(1)\n",
        "#intR\n",
        "#Use NumPy to generate an array of 25 random numbers sampled from a standard normal distribution\n",
        "int25 = np.random.rand(25)\n",
        "#int25\n",
        "\n",
        "int100 = np.arange(0.01,1.01,0.01).reshape(10,10)\n",
        "#int100\n",
        "\n",
        "#Create an array of 20 linearly spaced points between 0 and 1:¶\n",
        "arr_lins = np.linspace(0,1,20)\n",
        "#arr_lins\n",
        "mat = np.arange(1,26).reshape(5,5)\n",
        "#out = mat[2:,1:]\n",
        "#out"
      ],
      "execution_count": 105,
      "outputs": [
        {
          "output_type": "execute_result",
          "data": {
            "text/plain": [
              "array([[12, 13, 14, 15],\n",
              "       [17, 18, 19, 20],\n",
              "       [22, 23, 24, 25]])"
            ]
          },
          "metadata": {
            "tags": []
          },
          "execution_count": 105
        }
      ]
    }
  ]
}